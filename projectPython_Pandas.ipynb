{
 "cells": [
  {
   "cell_type": "code",
   "execution_count": 1,
   "id": "7a46cedf-6769-4df2-8ffb-d727e1fab6e3",
   "metadata": {},
   "outputs": [
    {
     "name": "stdout",
     "output_type": "stream",
     "text": [
      "Defaulting to user installation because normal site-packages is not writeable\n",
      "Collecting pandas\n",
      "  Downloading pandas-2.3.0-cp312-cp312-manylinux_2_17_x86_64.manylinux2014_x86_64.whl.metadata (91 kB)\n",
      "\u001b[2K     \u001b[38;2;114;156;31m━━━━━━━━━━━━━━━━━━━━━━━━━━━━━━━━━━━━━━━━\u001b[0m \u001b[32m91.2/91.2 kB\u001b[0m \u001b[31m1.8 MB/s\u001b[0m eta \u001b[36m0:00:00\u001b[0m[31m2.8 MB/s\u001b[0m eta \u001b[36m0:00:01\u001b[0m\n",
      "\u001b[?25hRequirement already satisfied: numpy>=1.26.0 in /usr/lib/python3/dist-packages (from pandas) (1.26.4)\n",
      "Requirement already satisfied: python-dateutil>=2.8.2 in /usr/lib/python3/dist-packages (from pandas) (2.8.2)\n",
      "Requirement already satisfied: pytz>=2020.1 in /usr/lib/python3/dist-packages (from pandas) (2024.1)\n",
      "Collecting tzdata>=2022.7 (from pandas)\n",
      "  Downloading tzdata-2025.2-py2.py3-none-any.whl.metadata (1.4 kB)\n",
      "Downloading pandas-2.3.0-cp312-cp312-manylinux_2_17_x86_64.manylinux2014_x86_64.whl (12.0 MB)\n",
      "\u001b[2K   \u001b[38;2;114;156;31m━━━━━━━━━━━━━━━━━━━━━━━━━━━━━━━━━━━━━━━━\u001b[0m \u001b[32m12.0/12.0 MB\u001b[0m \u001b[31m4.6 MB/s\u001b[0m eta \u001b[36m0:00:00\u001b[0mm eta \u001b[36m0:00:01\u001b[0m[36m0:00:01\u001b[0m\n",
      "\u001b[?25hDownloading tzdata-2025.2-py2.py3-none-any.whl (347 kB)\n",
      "\u001b[2K   \u001b[38;2;114;156;31m━━━━━━━━━━━━━━━━━━━━━━━━━━━━━━━━━━━━━━━━\u001b[0m \u001b[32m347.8/347.8 kB\u001b[0m \u001b[31m4.8 MB/s\u001b[0m eta \u001b[36m0:00:00\u001b[0m MB/s\u001b[0m eta \u001b[36m0:00:01\u001b[0m\n",
      "\u001b[?25hInstalling collected packages: tzdata, pandas\n",
      "Successfully installed pandas-2.3.0 tzdata-2025.2\n"
     ]
    }
   ],
   "source": [
    "## Installing Pandas package library \n",
    "!pip install pandas"
   ]
  },
  {
   "cell_type": "code",
   "execution_count": 12,
   "id": "75c3f391-9cad-415b-82a0-b123f69d293b",
   "metadata": {},
   "outputs": [],
   "source": [
    "import pandas as pd"
   ]
  },
  {
   "cell_type": "code",
   "execution_count": 13,
   "id": "4dcf6a2c-ad99-4560-aa0a-8efe7b70d08b",
   "metadata": {},
   "outputs": [
    {
     "name": "stdout",
     "output_type": "stream",
     "text": [
      "Empty DataFrame\n",
      "Columns: []\n",
      "Index: []\n"
     ]
    }
   ],
   "source": [
    "## Creating an Empty DataFrame\n",
    "'''An empty DataFrame in pandas is a table with no data but can have defined column names and indexes. It is useful for setting up a \n",
    "structure before adding data dynamically. An empty DataFrame can be created just by calling a dataframe constructor.\n",
    "'''\n",
    "df = pd.DataFrame()\n",
    "print(df)"
   ]
  },
  {
   "cell_type": "code",
   "execution_count": 11,
   "id": "dc2833b8-c08e-4688-b369-bafbba0f7182",
   "metadata": {},
   "outputs": [
    {
     "name": "stdout",
     "output_type": "stream",
     "text": [
      "   0\n",
      "0  a\n",
      "1  b\n",
      "2  c\n",
      "3  d\n"
     ]
    }
   ],
   "source": [
    "## Creating a DataFrame from a List (1D) - without column header\n",
    "'''A simple way to create a DataFrame is by using a single list. Pandas automatically assigns index values to the rows when you pass a list.\n",
    "    * Each item in the list becomes a row.\n",
    "    * The DataFrame consists of a single unnamed column.\n",
    "'''\n",
    "lst = ['a','b','c','d']\n",
    "df = pd.DataFrame(lst)\n",
    "print(df)"
   ]
  },
  {
   "cell_type": "code",
   "execution_count": 14,
   "id": "21e1e14b-7aa4-4617-b81c-b4220bab4f1c",
   "metadata": {},
   "outputs": [
    {
     "name": "stdout",
     "output_type": "stream",
     "text": [
      "  First Name\n",
      "0        Bob\n",
      "1       Mark\n",
      "2       Jane\n",
      "3    Patrick\n"
     ]
    }
   ],
   "source": [
    "## Creating a DataFrame from a List (1D) - with column header\n",
    "lst = [\"Bob\", \"Mark\", \"Jane\", \"Patrick\"]\n",
    "\n",
    "df = pd.DataFrame(lst, columns=[\"First Name\"])\n",
    "print(df)"
   ]
  },
  {
   "cell_type": "code",
   "execution_count": 15,
   "id": "444dd496-79c2-4140-829d-9721fecdcfb0",
   "metadata": {},
   "outputs": [
    {
     "name": "stdout",
     "output_type": "stream",
     "text": [
      "  First Name Last Name                Email\n",
      "0        Bob       Doe      bob@example.com\n",
      "1       Mark   Markson     mark@example.com\n",
      "2       Jane     Swift     jane@example.com\n",
      "3    Patrick   Johnson  patrick@example.com\n"
     ]
    }
   ],
   "source": [
    "## Creating a DataFrame from a List (2D) - with column header\n",
    "lst = [\n",
    "    [\"Bob\", \"Doe\", \"bob@example.com\"],\n",
    "    [\"Mark\", \"Markson\", \"mark@example.com\"],\n",
    "    [\"Jane\", \"Swift\", \"jane@example.com\"],\n",
    "    [\"Patrick\", \"Johnson\", \"patrick@example.com\"]\n",
    "]\n",
    "\n",
    "df = pd.DataFrame(lst, columns=[\"First Name\", \"Last Name\", \"Email\"])\n",
    "print(df)"
   ]
  },
  {
   "cell_type": "code",
   "execution_count": 16,
   "id": "8837dbc5-087b-4a75-a941-4a4b3a521172",
   "metadata": {},
   "outputs": [
    {
     "name": "stdout",
     "output_type": "stream",
     "text": [
      "  First Name Last Name\n",
      "0        Bob       Doe\n",
      "1       Mark   Markson\n",
      "2       Jane     Swift\n",
      "3    Patrick   Johnson\n"
     ]
    }
   ],
   "source": [
    "## Creating a DataFrame from Multiple Lists Using zip()\n",
    "first_names = [\"Bob\", \"Mark\", \"Jane\", \"Patrick\"]\n",
    "last_names = [\"Doe\", \"Markson\", \"Swift\", \"Johnson\"]\n",
    "\n",
    "df = pd.DataFrame(list(zip(first_names, last_names)), columns=[\"First Name\", \"Last Name\"])\n",
    "print(df)"
   ]
  },
  {
   "cell_type": "code",
   "execution_count": 18,
   "id": "61657ecd-f6b3-45bd-b2e4-edb97ee6b152",
   "metadata": {},
   "outputs": [
    {
     "name": "stdout",
     "output_type": "stream",
     "text": [
      "  First Name Last Name                Email\n",
      "0        Bob       Doe      bob@example.com\n",
      "1       Mark   Markson     mark@example.com\n",
      "2       Jane     Swift     jane@example.com\n",
      "3    Patrick   Johnson  patrick@example.com\n"
     ]
    }
   ],
   "source": [
    "## Using pd.DataFrame.from_records()\n",
    "'''\n",
    "    We can also use from_records() to create a DataFrame from a list of tuples or lists\n",
    "'''\n",
    "data = [\n",
    "    (\"Bob\", \"Doe\", \"bob@example.com\"),\n",
    "    (\"Mark\", \"Markson\", \"mark@example.com\"),\n",
    "    (\"Jane\", \"Swift\", \"jane@example.com\"),\n",
    "    (\"Patrick\", \"Johnson\", \"patrick@example.com\")\n",
    "]\n",
    "\n",
    "df = pd.DataFrame.from_records(data, columns=[\"First Name\", \"Last Name\", \"Email\"])\n",
    "print(df)"
   ]
  },
  {
   "cell_type": "code",
   "execution_count": 19,
   "id": "dad22713-7f2e-4829-90c5-6e484e529c23",
   "metadata": {},
   "outputs": [
    {
     "name": "stdout",
     "output_type": "stream",
     "text": [
      "  First Name  Age\n",
      "0        Bob   32\n",
      "1       Mark   25\n",
      "2       Jane   41\n",
      "3    Patrick   29\n"
     ]
    }
   ],
   "source": [
    "## Creating an Empty DataFrame and Adding Columns from Lists\n",
    "df = pd.DataFrame()\n",
    "df['First Name'] = [\"Bob\", \"Mark\", \"Jane\", \"Patrick\"]\n",
    "df['Age'] = [32, 25, 41, 29]\n",
    "print(df)"
   ]
  },
  {
   "cell_type": "code",
   "execution_count": null,
   "id": "a28640ec-6f51-42cf-9f12-7e44a3670cc7",
   "metadata": {},
   "outputs": [],
   "source": []
  }
 ],
 "metadata": {
  "kernelspec": {
   "display_name": "Python 3 (ipykernel)",
   "language": "python",
   "name": "python3"
  },
  "language_info": {
   "codemirror_mode": {
    "name": "ipython",
    "version": 3
   },
   "file_extension": ".py",
   "mimetype": "text/x-python",
   "name": "python",
   "nbconvert_exporter": "python",
   "pygments_lexer": "ipython3",
   "version": "3.12.3"
  }
 },
 "nbformat": 4,
 "nbformat_minor": 5
}
